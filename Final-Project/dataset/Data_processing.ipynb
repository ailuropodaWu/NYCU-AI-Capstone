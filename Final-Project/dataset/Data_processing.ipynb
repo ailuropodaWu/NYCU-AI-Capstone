{
  "nbformat": 4,
  "nbformat_minor": 0,
  "metadata": {
    "colab": {
      "provenance": []
    },
    "kernelspec": {
      "name": "python3",
      "display_name": "Python 3"
    },
    "language_info": {
      "name": "python"
    }
  },
  "cells": [
    {
      "cell_type": "markdown",
      "source": [
        "## Imports"
      ],
      "metadata": {
        "id": "CeFY8neGzfP1"
      }
    },
    {
      "cell_type": "code",
      "source": [
        "!pip install datasets\n",
        "!pip install --upgrade openai\n",
        "!pip install --upgrade langchain"
      ],
      "metadata": {
        "colab": {
          "base_uri": "https://localhost:8080/"
        },
        "id": "GoHhZmWMyDFc",
        "outputId": "14eab116-20a3-491a-cddb-18f5da17dba7"
      },
      "execution_count": null,
      "outputs": [
        {
          "output_type": "stream",
          "name": "stdout",
          "text": [
            "Collecting datasets\n",
            "  Using cached datasets-2.19.1-py3-none-any.whl (542 kB)\n",
            "Requirement already satisfied: filelock in /usr/local/lib/python3.10/dist-packages (from datasets) (3.14.0)\n",
            "Requirement already satisfied: numpy>=1.17 in /usr/local/lib/python3.10/dist-packages (from datasets) (1.25.2)\n",
            "Requirement already satisfied: pyarrow>=12.0.0 in /usr/local/lib/python3.10/dist-packages (from datasets) (14.0.2)\n",
            "Requirement already satisfied: pyarrow-hotfix in /usr/local/lib/python3.10/dist-packages (from datasets) (0.6)\n",
            "Collecting dill<0.3.9,>=0.3.0 (from datasets)\n",
            "  Downloading dill-0.3.8-py3-none-any.whl (116 kB)\n",
            "\u001b[2K     \u001b[90m━━━━━━━━━━━━━━━━━━━━━━━━━━━━━━━━━━━━━━━━\u001b[0m \u001b[32m116.3/116.3 kB\u001b[0m \u001b[31m1.9 MB/s\u001b[0m eta \u001b[36m0:00:00\u001b[0m\n",
            "\u001b[?25hRequirement already satisfied: pandas in /usr/local/lib/python3.10/dist-packages (from datasets) (2.0.3)\n",
            "Requirement already satisfied: requests>=2.19.0 in /usr/local/lib/python3.10/dist-packages (from datasets) (2.31.0)\n",
            "Requirement already satisfied: tqdm>=4.62.1 in /usr/local/lib/python3.10/dist-packages (from datasets) (4.66.4)\n",
            "Collecting xxhash (from datasets)\n",
            "  Downloading xxhash-3.4.1-cp310-cp310-manylinux_2_17_x86_64.manylinux2014_x86_64.whl (194 kB)\n",
            "\u001b[2K     \u001b[90m━━━━━━━━━━━━━━━━━━━━━━━━━━━━━━━━━━━━━━━━\u001b[0m \u001b[32m194.1/194.1 kB\u001b[0m \u001b[31m15.7 MB/s\u001b[0m eta \u001b[36m0:00:00\u001b[0m\n",
            "\u001b[?25hCollecting multiprocess (from datasets)\n",
            "  Downloading multiprocess-0.70.16-py310-none-any.whl (134 kB)\n",
            "\u001b[2K     \u001b[90m━━━━━━━━━━━━━━━━━━━━━━━━━━━━━━━━━━━━━━━━\u001b[0m \u001b[32m134.8/134.8 kB\u001b[0m \u001b[31m13.1 MB/s\u001b[0m eta \u001b[36m0:00:00\u001b[0m\n",
            "\u001b[?25hRequirement already satisfied: fsspec[http]<=2024.3.1,>=2023.1.0 in /usr/local/lib/python3.10/dist-packages (from datasets) (2023.6.0)\n",
            "Requirement already satisfied: aiohttp in /usr/local/lib/python3.10/dist-packages (from datasets) (3.9.5)\n",
            "Collecting huggingface-hub>=0.21.2 (from datasets)\n",
            "  Downloading huggingface_hub-0.23.0-py3-none-any.whl (401 kB)\n",
            "\u001b[2K     \u001b[90m━━━━━━━━━━━━━━━━━━━━━━━━━━━━━━━━━━━━━━━━\u001b[0m \u001b[32m401.2/401.2 kB\u001b[0m \u001b[31m27.6 MB/s\u001b[0m eta \u001b[36m0:00:00\u001b[0m\n",
            "\u001b[?25hRequirement already satisfied: packaging in /usr/local/lib/python3.10/dist-packages (from datasets) (23.2)\n",
            "Requirement already satisfied: pyyaml>=5.1 in /usr/local/lib/python3.10/dist-packages (from datasets) (6.0.1)\n",
            "Requirement already satisfied: aiosignal>=1.1.2 in /usr/local/lib/python3.10/dist-packages (from aiohttp->datasets) (1.3.1)\n",
            "Requirement already satisfied: attrs>=17.3.0 in /usr/local/lib/python3.10/dist-packages (from aiohttp->datasets) (23.2.0)\n",
            "Requirement already satisfied: frozenlist>=1.1.1 in /usr/local/lib/python3.10/dist-packages (from aiohttp->datasets) (1.4.1)\n",
            "Requirement already satisfied: multidict<7.0,>=4.5 in /usr/local/lib/python3.10/dist-packages (from aiohttp->datasets) (6.0.5)\n",
            "Requirement already satisfied: yarl<2.0,>=1.0 in /usr/local/lib/python3.10/dist-packages (from aiohttp->datasets) (1.9.4)\n",
            "Requirement already satisfied: async-timeout<5.0,>=4.0 in /usr/local/lib/python3.10/dist-packages (from aiohttp->datasets) (4.0.3)\n",
            "Requirement already satisfied: typing-extensions>=3.7.4.3 in /usr/local/lib/python3.10/dist-packages (from huggingface-hub>=0.21.2->datasets) (4.11.0)\n",
            "Requirement already satisfied: charset-normalizer<4,>=2 in /usr/local/lib/python3.10/dist-packages (from requests>=2.19.0->datasets) (3.3.2)\n",
            "Requirement already satisfied: idna<4,>=2.5 in /usr/local/lib/python3.10/dist-packages (from requests>=2.19.0->datasets) (3.7)\n",
            "Requirement already satisfied: urllib3<3,>=1.21.1 in /usr/local/lib/python3.10/dist-packages (from requests>=2.19.0->datasets) (2.0.7)\n",
            "Requirement already satisfied: certifi>=2017.4.17 in /usr/local/lib/python3.10/dist-packages (from requests>=2.19.0->datasets) (2024.2.2)\n",
            "Requirement already satisfied: python-dateutil>=2.8.2 in /usr/local/lib/python3.10/dist-packages (from pandas->datasets) (2.8.2)\n",
            "Requirement already satisfied: pytz>=2020.1 in /usr/local/lib/python3.10/dist-packages (from pandas->datasets) (2023.4)\n",
            "Requirement already satisfied: tzdata>=2022.1 in /usr/local/lib/python3.10/dist-packages (from pandas->datasets) (2024.1)\n",
            "Requirement already satisfied: six>=1.5 in /usr/local/lib/python3.10/dist-packages (from python-dateutil>=2.8.2->pandas->datasets) (1.16.0)\n",
            "Installing collected packages: xxhash, dill, multiprocess, huggingface-hub, datasets\n",
            "  Attempting uninstall: huggingface-hub\n",
            "    Found existing installation: huggingface-hub 0.20.3\n",
            "    Uninstalling huggingface-hub-0.20.3:\n",
            "      Successfully uninstalled huggingface-hub-0.20.3\n",
            "Successfully installed datasets-2.19.1 dill-0.3.8 huggingface-hub-0.23.0 multiprocess-0.70.16 xxhash-3.4.1\n",
            "Collecting openai\n",
            "  Using cached openai-1.28.1-py3-none-any.whl (320 kB)\n",
            "Requirement already satisfied: anyio<5,>=3.5.0 in /usr/local/lib/python3.10/dist-packages (from openai) (3.7.1)\n",
            "Requirement already satisfied: distro<2,>=1.7.0 in /usr/lib/python3/dist-packages (from openai) (1.7.0)\n",
            "Collecting httpx<1,>=0.23.0 (from openai)\n",
            "  Using cached httpx-0.27.0-py3-none-any.whl (75 kB)\n",
            "Requirement already satisfied: pydantic<3,>=1.9.0 in /usr/local/lib/python3.10/dist-packages (from openai) (2.7.1)\n",
            "Requirement already satisfied: sniffio in /usr/local/lib/python3.10/dist-packages (from openai) (1.3.1)\n",
            "Requirement already satisfied: tqdm>4 in /usr/local/lib/python3.10/dist-packages (from openai) (4.66.4)\n",
            "Requirement already satisfied: typing-extensions<5,>=4.7 in /usr/local/lib/python3.10/dist-packages (from openai) (4.11.0)\n",
            "Requirement already satisfied: idna>=2.8 in /usr/local/lib/python3.10/dist-packages (from anyio<5,>=3.5.0->openai) (3.7)\n",
            "Requirement already satisfied: exceptiongroup in /usr/local/lib/python3.10/dist-packages (from anyio<5,>=3.5.0->openai) (1.2.1)\n",
            "Requirement already satisfied: certifi in /usr/local/lib/python3.10/dist-packages (from httpx<1,>=0.23.0->openai) (2024.2.2)\n",
            "Collecting httpcore==1.* (from httpx<1,>=0.23.0->openai)\n",
            "  Using cached httpcore-1.0.5-py3-none-any.whl (77 kB)\n",
            "Collecting h11<0.15,>=0.13 (from httpcore==1.*->httpx<1,>=0.23.0->openai)\n",
            "  Using cached h11-0.14.0-py3-none-any.whl (58 kB)\n",
            "Requirement already satisfied: annotated-types>=0.4.0 in /usr/local/lib/python3.10/dist-packages (from pydantic<3,>=1.9.0->openai) (0.6.0)\n",
            "Requirement already satisfied: pydantic-core==2.18.2 in /usr/local/lib/python3.10/dist-packages (from pydantic<3,>=1.9.0->openai) (2.18.2)\n",
            "Installing collected packages: h11, httpcore, httpx, openai\n",
            "Successfully installed h11-0.14.0 httpcore-1.0.5 httpx-0.27.0 openai-1.28.1\n",
            "Requirement already satisfied: langchain in /usr/local/lib/python3.10/dist-packages (0.1.20)\n",
            "Requirement already satisfied: PyYAML>=5.3 in /usr/local/lib/python3.10/dist-packages (from langchain) (6.0.1)\n",
            "Requirement already satisfied: SQLAlchemy<3,>=1.4 in /usr/local/lib/python3.10/dist-packages (from langchain) (2.0.30)\n",
            "Requirement already satisfied: aiohttp<4.0.0,>=3.8.3 in /usr/local/lib/python3.10/dist-packages (from langchain) (3.9.5)\n",
            "Requirement already satisfied: async-timeout<5.0.0,>=4.0.0 in /usr/local/lib/python3.10/dist-packages (from langchain) (4.0.3)\n",
            "Requirement already satisfied: dataclasses-json<0.7,>=0.5.7 in /usr/local/lib/python3.10/dist-packages (from langchain) (0.6.6)\n",
            "Requirement already satisfied: langchain-community<0.1,>=0.0.38 in /usr/local/lib/python3.10/dist-packages (from langchain) (0.0.38)\n",
            "Requirement already satisfied: langchain-core<0.2.0,>=0.1.52 in /usr/local/lib/python3.10/dist-packages (from langchain) (0.1.52)\n",
            "Requirement already satisfied: langchain-text-splitters<0.1,>=0.0.1 in /usr/local/lib/python3.10/dist-packages (from langchain) (0.0.1)\n",
            "Requirement already satisfied: langsmith<0.2.0,>=0.1.17 in /usr/local/lib/python3.10/dist-packages (from langchain) (0.1.57)\n",
            "Requirement already satisfied: numpy<2,>=1 in /usr/local/lib/python3.10/dist-packages (from langchain) (1.25.2)\n",
            "Requirement already satisfied: pydantic<3,>=1 in /usr/local/lib/python3.10/dist-packages (from langchain) (2.7.1)\n",
            "Requirement already satisfied: requests<3,>=2 in /usr/local/lib/python3.10/dist-packages (from langchain) (2.31.0)\n",
            "Requirement already satisfied: tenacity<9.0.0,>=8.1.0 in /usr/local/lib/python3.10/dist-packages (from langchain) (8.3.0)\n",
            "Requirement already satisfied: aiosignal>=1.1.2 in /usr/local/lib/python3.10/dist-packages (from aiohttp<4.0.0,>=3.8.3->langchain) (1.3.1)\n",
            "Requirement already satisfied: attrs>=17.3.0 in /usr/local/lib/python3.10/dist-packages (from aiohttp<4.0.0,>=3.8.3->langchain) (23.2.0)\n",
            "Requirement already satisfied: frozenlist>=1.1.1 in /usr/local/lib/python3.10/dist-packages (from aiohttp<4.0.0,>=3.8.3->langchain) (1.4.1)\n",
            "Requirement already satisfied: multidict<7.0,>=4.5 in /usr/local/lib/python3.10/dist-packages (from aiohttp<4.0.0,>=3.8.3->langchain) (6.0.5)\n",
            "Requirement already satisfied: yarl<2.0,>=1.0 in /usr/local/lib/python3.10/dist-packages (from aiohttp<4.0.0,>=3.8.3->langchain) (1.9.4)\n",
            "Requirement already satisfied: marshmallow<4.0.0,>=3.18.0 in /usr/local/lib/python3.10/dist-packages (from dataclasses-json<0.7,>=0.5.7->langchain) (3.21.2)\n",
            "Requirement already satisfied: typing-inspect<1,>=0.4.0 in /usr/local/lib/python3.10/dist-packages (from dataclasses-json<0.7,>=0.5.7->langchain) (0.9.0)\n",
            "Requirement already satisfied: jsonpatch<2.0,>=1.33 in /usr/local/lib/python3.10/dist-packages (from langchain-core<0.2.0,>=0.1.52->langchain) (1.33)\n",
            "Requirement already satisfied: packaging<24.0,>=23.2 in /usr/local/lib/python3.10/dist-packages (from langchain-core<0.2.0,>=0.1.52->langchain) (23.2)\n",
            "Requirement already satisfied: orjson<4.0.0,>=3.9.14 in /usr/local/lib/python3.10/dist-packages (from langsmith<0.2.0,>=0.1.17->langchain) (3.10.3)\n",
            "Requirement already satisfied: annotated-types>=0.4.0 in /usr/local/lib/python3.10/dist-packages (from pydantic<3,>=1->langchain) (0.6.0)\n",
            "Requirement already satisfied: pydantic-core==2.18.2 in /usr/local/lib/python3.10/dist-packages (from pydantic<3,>=1->langchain) (2.18.2)\n",
            "Requirement already satisfied: typing-extensions>=4.6.1 in /usr/local/lib/python3.10/dist-packages (from pydantic<3,>=1->langchain) (4.11.0)\n",
            "Requirement already satisfied: charset-normalizer<4,>=2 in /usr/local/lib/python3.10/dist-packages (from requests<3,>=2->langchain) (3.3.2)\n",
            "Requirement already satisfied: idna<4,>=2.5 in /usr/local/lib/python3.10/dist-packages (from requests<3,>=2->langchain) (3.7)\n",
            "Requirement already satisfied: urllib3<3,>=1.21.1 in /usr/local/lib/python3.10/dist-packages (from requests<3,>=2->langchain) (2.0.7)\n",
            "Requirement already satisfied: certifi>=2017.4.17 in /usr/local/lib/python3.10/dist-packages (from requests<3,>=2->langchain) (2024.2.2)\n",
            "Requirement already satisfied: greenlet!=0.4.17 in /usr/local/lib/python3.10/dist-packages (from SQLAlchemy<3,>=1.4->langchain) (3.0.3)\n",
            "Requirement already satisfied: jsonpointer>=1.9 in /usr/local/lib/python3.10/dist-packages (from jsonpatch<2.0,>=1.33->langchain-core<0.2.0,>=0.1.52->langchain) (2.4)\n",
            "Requirement already satisfied: mypy-extensions>=0.3.0 in /usr/local/lib/python3.10/dist-packages (from typing-inspect<1,>=0.4.0->dataclasses-json<0.7,>=0.5.7->langchain) (1.0.0)\n"
          ]
        }
      ]
    },
    {
      "cell_type": "code",
      "execution_count": null,
      "metadata": {
        "id": "u_XOUetixtfV"
      },
      "outputs": [],
      "source": [
        "from datasets import load_dataset\n",
        "import openai\n",
        "import os\n",
        "import IPython\n",
        "from langchain.llms import OpenAI\n",
        "import pandas as pd\n",
        "import json\n",
        "import re"
      ]
    },
    {
      "cell_type": "code",
      "source": [
        "from google.colab import userdata\n",
        "key = userdata.get('OPENAI_API_KEY')\n",
        "\n",
        "openai.api_key = key\n",
        "\n",
        "os.environ[\"OPENAI_API_KEY\"] = key"
      ],
      "metadata": {
        "id": "zqoRTBULzvIx"
      },
      "execution_count": null,
      "outputs": []
    },
    {
      "cell_type": "markdown",
      "source": [
        "## Functions"
      ],
      "metadata": {
        "id": "ba3e8RxJzn15"
      }
    },
    {
      "cell_type": "code",
      "source": [
        "def set_open_params(\n",
        "    model=\"gpt-3.5-turbo\",\n",
        "    temperature=0.7,\n",
        "    max_tokens=256,\n",
        "    top_p=1,\n",
        "    frequency_penalty=0,\n",
        "    presence_penalty=0,\n",
        "):\n",
        "    \"\"\" set openai parameters\"\"\"\n",
        "\n",
        "    openai_params = {}\n",
        "\n",
        "    openai_params['model'] = model\n",
        "    openai_params['temperature'] = temperature\n",
        "    openai_params['max_tokens'] = max_tokens\n",
        "    openai_params['top_p'] = top_p\n",
        "    openai_params['frequency_penalty'] = frequency_penalty\n",
        "    openai_params['presence_penalty'] = presence_penalty\n",
        "    return openai_params\n",
        "\n",
        "def get_completion(params, messages):\n",
        "    response = openai.chat.completions.create(\n",
        "        model = params['model'],\n",
        "        messages = messages,\n",
        "        temperature = params['temperature'],\n",
        "        max_tokens = params['max_tokens'],\n",
        "        top_p = params['top_p'],\n",
        "        frequency_penalty = params['frequency_penalty'],\n",
        "        presence_penalty = params['presence_penalty'],\n",
        "    )\n",
        "    return response"
      ],
      "metadata": {
        "id": "ykE5MlQs7g4p"
      },
      "execution_count": null,
      "outputs": []
    },
    {
      "cell_type": "code",
      "source": [
        "data_split = [\"train\", \"validation\", \"test\"]\n",
        "\n",
        "def load_data(name:str):\n",
        "    dataset = load_dataset(name)\n",
        "    dataset.set_format(\"pandas\")\n",
        "    data = {}\n",
        "    for split in data_split:\n",
        "        data[split] = dataset[split][:] if split in dataset.keys() else None\n",
        "\n",
        "    return data"
      ],
      "metadata": {
        "id": "_-IfkzFhkfSx"
      },
      "execution_count": null,
      "outputs": []
    },
    {
      "cell_type": "markdown",
      "source": [
        "### Prompt format testing"
      ],
      "metadata": {
        "id": "aAhgwc_C8VNJ"
      }
    },
    {
      "cell_type": "code",
      "source": [
        "def generate_prompt(sentence1, sentence2):\n",
        "    prompt = f\"\"\"You have to extend the given 2 sentences to N more sentences, respectively, where N is a number randomly chosen from 3 to 7. And you should still retain their semantic relatedness, which is given by a score ranging from 0-5, the higher the score is, the more related the sentences are.\n",
        "\n",
        "```desired format:\n",
        "// use brackets to indicate the generated paragraphs\n",
        "paragraph1: [<generated paragraph 1>]\n",
        "paragraph2: [<generated paragraph 2>]\n",
        "// do not print out the score\n",
        "```query:\n",
        "<sentence1>: {sentence1}\n",
        "<sentence2>: {sentence2}\n",
        "<score>: 4.6\n",
        "\n",
        "```output:\n",
        "\"\"\"\n",
        "    return prompt"
      ],
      "metadata": {
        "id": "mJVLBvjzrnqe"
      },
      "execution_count": null,
      "outputs": []
    },
    {
      "cell_type": "code",
      "source": [
        "params = set_open_params()\n",
        "\n",
        "sentence1 = \"U.S. prosecutors have arrested more than 130 individuals and have seized more than $17 million in a continuing crackdown on Internet fraud and abuse.\" # @param {type:\"string\"}\n",
        "sentence2 = \"More than 130 people have been arrested and $17 million worth of property seized in an Internet fraud sweep announced Friday by three U.S. government agencies.\" # @param {type:\"string\"}\n",
        "prompt = generate_prompt(sentence1, sentence2)\n",
        "#print(\"prompt: \", prompt)\n",
        "\n",
        "messages = [\n",
        "    {\n",
        "        \"role\": \"user\",\n",
        "        \"content\": prompt\n",
        "    }\n",
        "]\n",
        "\n",
        "response = get_completion(params, messages)\n"
      ],
      "metadata": {
        "id": "oeyxmmIs7uY_"
      },
      "execution_count": null,
      "outputs": []
    },
    {
      "cell_type": "code",
      "source": [
        "response.choices[0].message.content"
      ],
      "metadata": {
        "colab": {
          "base_uri": "https://localhost:8080/",
          "height": 145
        },
        "id": "n0tTYLBGyOl8",
        "outputId": "3361e912-f8d1-4fe6-cb0b-0873b975d022"
      },
      "execution_count": null,
      "outputs": [
        {
          "output_type": "execute_result",
          "data": {
            "text/plain": [
              "'paragraph1: [The crackdown on Internet fraud and abuse by U.S. prosecutors has been highly successful, resulting in the arrest of over 130 individuals. Additionally, the authorities have managed to seize an impressive $17 million worth of assets. This ongoing effort to combat online scams and deception is crucial in protecting innocent victims from falling prey to fraudulent schemes. The sheer magnitude of the arrests and seizures serves as a powerful deterrent to would-be criminals who seek to exploit others through illegal means.]\\n\\nparagraph2: [The joint operation carried out by three U.S. government agencies to tackle Internet fraud has yielded significant results, with more than 130 people being taken into custody. Furthermore, the seizure of $17 million in assets sends a strong message that such criminal activities will not be tolerated. The collaboration between these agencies underscores the importance of a united front in the fight against cybercrime. This coordinated effort is essential in safeguarding the integrity of online transactions and preserving the trust of consumers in the digital marketplace.]'"
            ],
            "application/vnd.google.colaboratory.intrinsic+json": {
              "type": "string"
            }
          },
          "metadata": {},
          "execution_count": 54
        }
      ]
    },
    {
      "cell_type": "markdown",
      "source": [
        "## Dataset creation"
      ],
      "metadata": {
        "id": "2bt2GJgKltVB"
      }
    },
    {
      "cell_type": "markdown",
      "source": [
        "### Load raw data"
      ],
      "metadata": {
        "id": "XArrJIDoyqBo"
      }
    },
    {
      "cell_type": "code",
      "source": [
        "data_list = ['mteb/stsbenchmark-sts', 'mteb/sts12-sts', 'mteb/sts13-sts', 'mteb/sts14-sts', 'mteb/sts15-sts']\n",
        "df = []\n",
        "for name in data_list:\n",
        "    data = load_data(name)\n",
        "    for split in data_split:\n",
        "        if data[split] is None:\n",
        "            continue\n",
        "        for _, row in data[split].iterrows():\n",
        "            df.append([row[\"sentence1\"], row[\"sentence2\"], row[\"score\"]])\n",
        "df = pd.DataFrame(df, columns=[\"sentence1\", \"sentence2\", \"score\"])\n",
        "df.drop_duplicates(inplace=True, ignore_index=True)\n",
        "df.to_json(\"./data.json\", orient=\"records\")\n",
        "print(df)"
      ],
      "metadata": {
        "colab": {
          "base_uri": "https://localhost:8080/"
        },
        "id": "CA18boLalwsE",
        "outputId": "066064e5-bdfc-442b-808c-9ac9c60cbf6e"
      },
      "execution_count": null,
      "outputs": [
        {
          "output_type": "stream",
          "name": "stdout",
          "text": [
            "                                               sentence1  \\\n",
            "0                                 A plane is taking off.   \n",
            "1                        A man is playing a large flute.   \n",
            "2          A man is spreading shreded cheese on a pizza.   \n",
            "3                           Three men are playing chess.   \n",
            "4                            A man is playing the cello.   \n",
            "...                                                  ...   \n",
            "20386                a baseball player throws the ball .   \n",
            "20387           a man is swinging on a rope over water .   \n",
            "20388  a woman wearing large sunglasses holds newspap...   \n",
            "20389                             a deer jumps a fence .   \n",
            "20390  a young girl dressed in a minnie mouse outfit ...   \n",
            "\n",
            "                                               sentence2  score  \n",
            "0                            An air plane is taking off.   5.00  \n",
            "1                              A man is playing a flute.   3.80  \n",
            "2      A man is spreading shredded cheese on an uncoo...   3.80  \n",
            "3                             Two men are playing chess.   2.60  \n",
            "4                     A man seated is playing the cello.   4.25  \n",
            "...                                                  ...    ...  \n",
            "20386             the basketball player holds the ball .   1.60  \n",
            "20387  a man in a maroon bathing suit swings on a rop...   3.00  \n",
            "20388  a fat woman wearing faint blue top is blowing ...   1.00  \n",
            "20389                   a deer is jumping over a fence .   5.00  \n",
            "20390  a man wearing a white suit holding a newspaper...   1.00  \n",
            "\n",
            "[20391 rows x 3 columns]\n"
          ]
        }
      ]
    },
    {
      "cell_type": "markdown",
      "source": [
        "### Sentence extension\n"
      ],
      "metadata": {
        "id": "5j2aAX80yuBN"
      }
    },
    {
      "cell_type": "code",
      "source": [
        "llm_name = \"gpt-3.5-turbo\" # @param [\"gpt-3.5-turbo\", \"gpt-4\"]\n",
        "params = set_open_params(model=llm_name)"
      ],
      "metadata": {
        "id": "cMFPI-da2AWT"
      },
      "execution_count": null,
      "outputs": []
    },
    {
      "cell_type": "code",
      "source": [
        "with open('data.json', 'r') as file:\n",
        "    df = json.load(file)\n",
        "extended_data=[]\n",
        "cnt = 0\n",
        "for data in df:\n",
        "    print(f\"data {cnt}/20351\")\n",
        "    cnt += 1\n",
        "    prompt = generate_prompt(data['sentence1'], data['sentence2'])\n",
        "    #print(\"prompt: \", prompt)\n",
        "    messages = [\n",
        "        {\n",
        "            \"role\": \"user\",\n",
        "            \"content\": prompt\n",
        "        }\n",
        "    ]\n",
        "    response = get_completion(params, messages)\n",
        "    query_result = response.choices[0].message.content\n",
        "    print(query_result)\n",
        "    paragraphs = re.findall(r'\\[([^\\]]+)\\]', query_result)\n",
        "\n",
        "    paragraph1 = paragraphs[0]\n",
        "    paragraph2 = paragraphs[1]\n",
        "    score = data['score']\n",
        "    extended_data.append([paragraph1, paragraph2, score])\n",
        "extended_data.to_json(\"./extended_data.json\", orient=\"records\")\n",
        "print(extended_data)"
      ],
      "metadata": {
        "colab": {
          "base_uri": "https://localhost:8080/"
        },
        "id": "RSf9wnyQumfi",
        "outputId": "21a0a43e-b330-4d39-b34d-a70b826a5a84"
      },
      "execution_count": null,
      "outputs": [
        {
          "output_type": "stream",
          "name": "stdout",
          "text": [
            "data 0/20351\n",
            "paragraph1: [The plane slowly gains altitude as it takes off from the runway, the engines roaring with power. The passengers feel a mix of excitement and nervousness as the aircraft lifts into the sky, leaving the ground below.]\n",
            "\n",
            "paragraph2: [An air plane, with its sleek design, gracefully ascends into the clouds as it takes off from the airport. The passengers inside watch in awe as the scenery below becomes smaller and smaller, signaling the beginning of their journey.]\n",
            "data 1/20351\n",
            "paragraph1: [The man playing the large flute was a skilled musician, effortlessly moving his fingers along the keys to produce beautiful melodies. The sound of the flute echoed through the room, captivating everyone who listened. It was clear that music was not just a hobby for him, but a passion that he poured his heart and soul into. The intricate notes he played filled the air with a sense of tranquility and joy, creating a mesmerizing atmosphere in the room.]\n",
            "\n",
            "paragraph2: [Meanwhile, the man playing the flute had a more simplistic approach, yet his music was just as enchanting. His fingers danced gracefully over the instrument, producing a sweet and melodious sound that resonated with the listeners. Despite the lack of complexity in his playing, there was a raw beauty to his music that touched the hearts of those who heard it. It was evident that both men shared a deep love for music, each expressing it in their own unique way.]\n",
            "data 2/20351\n",
            "paragraph1: [The man carefully sprinkles the shredded cheese over the tomato sauce and toppings on the pizza, ensuring that each bite will be cheesy and delicious. He takes his time to evenly distribute the cheese so that every slice will have the perfect amount of gooey goodness. After finishing the cheese layer, he admires his work before placing the pizza in the oven to bake to perfection.]\n",
            "\n",
            "paragraph2: [As the man prepares the uncooked pizza, he reaches for the bag of shredded cheese and begins sprinkling it over the tomato sauce and toppings. He ensures that every inch of the pizza is covered in a generous layer of cheese, knowing that it will melt and blend perfectly with the other ingredients during baking. Once satisfied with his cheese distribution, he places the pizza in the oven, eager to see the final result of his culinary creation.]\n",
            "data 3/20351\n",
            "\n",
            "paragraph1: [The three men were engrossed in their game, each carefully considering their next move. The tension in the room was palpable as they strategized against each other, their eyes fixed on the chessboard. With each move, the intensity grew, creating an atmosphere of competition and focus.]\n",
            "paragraph2: [Meanwhile, the two men were locked in a fierce battle of wits, their concentration evident in the furrowed brows and occasional nods of approval. The sound of pieces being moved echoed in the room, punctuated by brief moments of silence as each player contemplated their options. Despite the smaller number of participants, the game was just as intense and engaging.]\n",
            "data 4/20351\n",
            "paragraph1: [The man, who is dressed in a formal suit, is passionately playing the cello in a grand concert hall. His fingers move gracefully over the strings, producing a beautiful melody that captivates the audience. The audience members are mesmerized by the man's skillful performance and the emotional depth of his music.]\n",
            "\n",
            "paragraph2: [Seated comfortably on a velvet chair, the man plays the cello with precision and emotion. His eyes are closed as he immerses himself in the music, completely lost in the moment. The rich, resonant sound fills the room, creating a serene atmosphere that envelops everyone present.]\n",
            "data 5/20351\n",
            "paragraph1: [The two men were engaged in a fierce battle, their fists flying and grunts of exertion filling the air. Each man was determined to prove his strength and skill, their faces contorted in concentration as they exchanged blows. The sound of their struggle echoed through the empty street, drawing a small crowd of onlookers who watched with a mixture of awe and concern.]\n",
            "\n",
            "paragraph2: [As the fight raged on, it became clear that these two men were evenly matched in terms of strength and agility. Their movements were fluid and calculated, each one anticipating the other's next move with precision. Despite the intensity of the battle, neither man showed any signs of backing down, their eyes locked in a fierce gaze as they continued to push each other to their limits.]\n",
            "data 6/20351\n",
            "\n",
            "paragraph1: [The man took a long drag from his cigarette, exhaling a cloud of smoke into the air. His fingers fidgeted with the pack of cigarettes, a habit he just couldn't seem to kick. The smoke curled around his head, creating a hazy halo around him as he leaned against the wall.]\n",
            "paragraph2: [Meanwhile, the man laced up his skates, feeling the familiar thrill of gliding across the ice. As he pushed off, his movements were fluid and graceful, his body moving in sync with the rhythm of the ice. The sound of his skates cutting through the ice echoed in the empty rink, a soothing melody to his ears.]\n",
            "data 7/20351\n",
            "paragraph1: [The man is currently sitting in front of a grand piano, his fingers gracefully dancing across the keys as he produces beautiful music. The sound of the piano fills the room, captivating everyone who is lucky enough to listen. The man's passion for music is evident in the way he plays, pouring his heart and soul into each note. As he continues to play, his skill and talent shine through, leaving a lasting impression on all who hear him.]\n",
            "\n",
            "paragraph2: [Similarly, the man is now holding a guitar in his hands, strumming the strings with precision and skill. The melodic sound of the guitar resonates throughout the space, creating a warm and inviting atmosphere. Just like with the piano, the man's love for music is evident in the way he plays the guitar, expressing himself through each chord and riff. Those who are fortunate enough to witness his performance are left in awe of his talent and passion for music.]\n",
            "data 8/20351\n",
            "paragraph1: [The man strummed the guitar with skill, his fingers dancing across the strings as he sang along to the melody. His voice filled the room with a soulful sound that captivated everyone who listened. The music seemed to flow effortlessly from him, as if it was a natural extension of his being.]\n",
            "paragraph2: [Meanwhile, the woman sat comfortably with her acoustic guitar, her fingers plucking the strings with precision as she sang in perfect harmony. Her voice was sweet and melodic, blending beautifully with the gentle strumming of the guitar. The music she created was enchanting, drawing in all those who heard it with its soothing quality.]\n",
            "data 9/20351\n",
            "paragraph1: [The person's arm moves in a swift motion as they launch the cat up towards the ceiling. The cat lets out a startled meow as it reaches the highest point before gravity pulls it back down. The person's eyes follow the trajectory of the cat as it lands on the ceiling with a soft thud.]\n",
            "paragraph2: [The cat scrambles to find its footing on the ceiling, its claws gripping onto any surface it can find. The person watches with amusement as the cat tries to adjust to its new upside-down environment. Laughter fills the room as the cat finally settles on the ceiling, looking down at the person with wide eyes.]\n",
            "data 10/20351\n",
            "paragraph1: [The man swung the stick with all his might, striking the other man on the shoulder. The impact caused the man to wince in pain and stumble backwards. He could feel the sting of the blow spreading through his body, making him grit his teeth in discomfort. As the adrenaline rushed through his veins, he raised the stick again, ready to strike once more.]\n",
            "paragraph2: [The man let out a yelp as the stick made contact with his skin, leaving a red mark in its wake. He could feel the heat radiating from the spot where he was spanked, the sensation lingering long after the strike. The other man's eyes gleamed with a mixture of triumph and malice, clearly relishing the act of inflicting pain. Despite the burning sensation, the man swallowed his pride and prepared himself for the next blow.]\n",
            "data 11/20351\n",
            "paragraph1: [The woman's gentle touch cradles the soft fur of the baby kangaroo as she lifts it up carefully. She smiles down at the adorable creature, feeling its tiny heartbeat against her palm. The kangaroo nuzzles against her, seeking comfort and warmth in her embrace.]\n",
            "\n",
            "paragraph2: [The woman's eyes sparkle with affection as she snuggles the baby kangaroo closer to her chest. She whispers soothing words to the little joey, her heart melting at the sight of its innocent gaze. With a motherly instinct, she rocks the kangaroo gently, creating a sense of security and love in their bond.]\n",
            "data 12/20351\n",
            "paragraph1: [The man's hands moved gracefully over the silver keys of the flute, producing a melody that filled the room with its soothing notes. His eyes were closed in concentration as he immersed himself in the music, lost in the world of sound he was creating. The audience watched in awe as the man's skillful fingers danced along the instrument, bringing the bamboo flute to life with each breath he took.]\n",
            "\n",
            "paragraph2: [The man's fingers expertly navigated the intricacies of the bamboo flute, coaxing out a rich, resonant sound that captivated everyone within earshot. His eyes sparkled with passion as he poured his soul into the music, each note a reflection of his emotions and experiences. The audience was spellbound by the man's performance, drawn in by the raw beauty and power of his music.]\n",
            "data 13/20351\n",
            "\n",
            "paragraph1: [The person carefully creases the paper along the edges, creating crisp folds that meet perfectly. They take their time with each fold, ensuring that the paper is neatly tucked in. With precision and skill, the person turns the paper over and repeats the folding process on the other side, mirroring the same meticulous technique.]\n",
            "\n",
            "paragraph2: [Similarly, the other individual also takes great care in folding the paper, making sure each crease is straight and even. They pay close attention to detail, ensuring that the paper is folded neatly and symmetrically. With a steady hand, they complete each fold with precision and accuracy, just like the first person.]\n",
            "data 14/20351\n",
            "\n",
            "paragraph1: [The man is running at a steady pace, his feet pounding against the pavement as he moves forward. The wind brushes against his face, ruffling his hair as he focuses on the path ahead. He is lost in his thoughts, feeling the rhythm of his breath matching the rhythm of his steps.]\n",
            "paragraph2: [The panda dog, with its fluffy coat bouncing up and down, runs alongside the man on the road. Its tongue lolls out in excitement, and its tail wags in a happy rhythm. The man glances over and smiles at the playful animal, enjoying the company as they both continue on their journey.]\n",
            "data 15/20351\n",
            "paragraph1: [The dog is using its paws to reach the bacon that is just out of its grasp. It lets out a playful bark as it continues to make attempts to grab the tasty treat. With determination in its eyes, the dog doesn't give up easily and tries different angles to get the bacon off its back. Finally, after a few failed attempts, the dog successfully snatches the bacon and happily devours it.]\n",
            "\n",
            "paragraph2: [The dog's tail wags excitedly as it savors the delicious bacon. With each bite, the dog's enjoyment is evident as it relishes the flavor. The bacon disappears quickly as the dog eagerly finishes its impromptu snack. Satisfied and content, the dog licks its lips happily, grateful for the unexpected treat.]\n",
            "data 16/20351\n",
            "paragraph1: [The polar bear gracefully glides across the glistening white snow, its thick fur blending in with the icy landscape. Its powerful paws propel it forward, leaving behind a trail of paw prints in the freshly fallen snow. The bear's sharp claws dig into the frozen surface, providing traction as it slides effortlessly across the winter wonderland.]\n",
            "\n",
            "paragraph2: [The polar bear moves with such ease and grace, it almost seems as though it is dancing on the snow. Its sleek body cuts through the cold air, creating a sense of fluidity in its movements. The bear's amber eyes scan the horizon, searching for any signs of potential prey as it continues to slide across the vast expanse of snow.]\n",
            "data 17/20351\n",
            "\n",
            "paragraph1: [The woman sat at her desk, pen in hand, as she carefully crafted sentences on the paper. She focused intently on her writing, her thoughts flowing freely onto the page. The words seemed to dance across the lines, creating a beautiful tapestry of ideas and emotions. Writing was her passion, a way for her to express herself and share her innermost thoughts with the world.]\n",
            "paragraph2: [Meanwhile, the woman changed into her swimsuit and made her way to the pool. With a graceful dive, she plunged into the cool, refreshing water, feeling the weight of the world lift off her shoulders. Swimming was her escape, a way for her to feel free and alive as she glided through the water. Each stroke propelled her forward, the rhythmic motion soothing her mind and invigorating her body.]\n",
            "data 18/20351\n",
            "paragraph1: [The cat's soft fur brushed against the baby's face gently, eliciting a soft purr from the content feline. The baby giggled in delight as the cat nuzzled closer, forming a bond between the two unlikely friends. The cat's whiskers tickled the baby's nose, causing the infant to let out a squeal of laughter. With each rub against the baby's face, the cat's affection for the child became more evident. The baby reached out tiny hands to stroke the cat's back, cementing their growing friendship.]\n",
            "\n",
            "paragraph2: [As the cat continued to rub against the baby, the child's eyes lit up with joy at the playful interaction. The baby's chubby cheeks squished against the cat's fur, creating a heartwarming scene of innocence and love. The cat purred contentedly, finding comfort in the presence of the tiny human. The gentle rub of the cat against the baby created a sense of calm and tranquility in the room. The bond between the cat and the baby strengthened with each passing moment, solidifying their connection through simple gestures of affection.]\n",
            "data 19/20351\n",
            "\n",
            "paragraph1: [The man is enjoying the fresh air as he rides his horse through the countryside. The sound of hooves hitting the ground creates a rhythmic pattern that soothes him. The man's body moves in sync with the horse's movements, showing a strong bond between them. He feels a sense of freedom and exhilaration as they gallop across the open fields. The man's mind is clear and focused, completely in tune with the nature around him.]\n",
            "paragraph2: [A man in a cowboy hat is riding on a majestic horse, trotting along a dirt path. The horse's mane flows in the wind, adding to the picturesque scene. The man's posture is confident and relaxed as he guides the horse with gentle nudges. The bond between the man and the horse is evident in the way they move as one. The man's face lights up with joy as he takes in the beauty of the landscape around him.]\n",
            "data 20/20351\n",
            "paragraph1: [The man carefully measures out the oil and slowly pours it into the pot, making sure not to spill any. He then stirs the oil around in the pot, ensuring that it coats the bottom evenly. After a few minutes, he starts to hear the sizzle of the oil as it heats up and prepares to cook the ingredients.]\n",
            "\n",
            "paragraph2: [Similarly, the man delicately pours the wine into the pot, being mindful not to splash any of it outside. He swirls the wine around in the pot, allowing its aroma to fill the air. As the wine begins to simmer, he anticipates the rich flavors it will add to the dish he is preparing.]\n",
            "data 21/20351\n",
            "paragraph1: [The man strummed the guitar with ease, his fingers dancing on the strings in perfect harmony. The music flowed effortlessly from his instrument, filling the room with a melodic tune. As he played, a sense of passion and joy radiated from him, captivating everyone in the audience. His skill and talent were undeniable, making it clear that this was not just a hobby but a true calling.]\n",
            "\n",
            "paragraph2: [Similarly, the girl played the guitar with precision and skill, her fingers moving deftly across the fretboard. The sweet sound of her music resonated in the air, creating a mesmerizing atmosphere. It was evident that she poured her heart and soul into every note, her love for music shining through. Like the man, she was a true artist, able to convey emotions and tell stories through her music.]\n",
            "data 22/20351\n",
            "\n",
            "paragraph1: [The adorable panda seems to be enjoying the thrill of sliding down the smooth surface of the slide. Its black and white fur glistens under the sunlight as it glides effortlessly downwards. A small crowd gathers to watch the playful panda in amusement. As the panda reaches the bottom, it lets out a contented squeal of delight, clearly loving every moment of the exhilarating ride.]\n",
            "paragraph2: [The panda's movements are graceful and fluid as it descends down the slide with ease. Its paws grip the edges securely, ensuring a safe and enjoyable journey. Onlookers smile and clap as the panda reaches the end of the slide, its joyful expression evident to all. The playful antics of the panda bring a sense of joy and wonder to all those who witness its delightful adventure.]\n",
            "data 23/20351\n",
            "paragraph1: [The woman was sitting at the dining table, delicately eating something with her fork. Her hand moved gracefully from the plate to her mouth, savoring each bite. She seemed to be enjoying her meal, her eyes lighting up with each taste. The woman's dining experience appeared to be a pleasant one, as she continued to eat with a content smile on her face.]\n",
            "\n",
            "paragraph2: [The woman was seen indulging in a hearty meal, savoring each bite of the meat on her plate. Her enjoyment was evident as she chewed slowly, relishing the flavors of the cooked meat. It seemed like she had a particular fondness for meat, as she focused all her attention on finishing every last piece. The woman's love for meat was palpable in the way she carefully consumed each morsel.]\n",
            "data 24/20351\n",
            "paragraph1: [The woman carefully selects a large potato from the basket, feeling its weight in her hand before placing it on the cutting board. She reaches for a sharp knife and begins to peel the potato in smooth, steady motions, ensuring not to waste any of the precious vegetable. The sound of the peeling is rhythmic and soothing, filling the kitchen with a sense of calm and purpose.]\n",
            "\n",
            "paragraph2: [As she peels the potato, the woman's focus is solely on the task at hand, her movements becoming almost meditative. She takes her time to remove every last bit of skin, revealing the smooth flesh underneath. The familiar scent of freshly peeled potato wafts through the air, reminding her of countless meals prepared in the same way. The woman's hands work with practiced efficiency, a skill honed through years of cooking for loved ones.]\n",
            "data 25/20351\n",
            "paragraph1: [As the boy fell off his bike, he let out a cry of pain and surprise. His hands scraped against the rough pavement, leaving behind a trail of blood. The impact caused his helmet to crack, serving as a reminder of the importance of safety gear when riding a bike. Despite the fall, the boy quickly got back on his feet, determined to conquer the fear that had now settled in his heart.]\n",
            "\n",
            "paragraph2: [Witnessing a boy fall off his bike can be a harrowing experience. The suddenness of the event can leave bystanders feeling helpless and concerned for the well-being of the child. It serves as a stark reminder of the risks associated with activities like biking, urging everyone to practice caution and vigilance. However, the boy's resilience in getting back on his bike despite the fall is a testament to the human spirit's ability to overcome adversity.]\n",
            "data 26/20351\n",
            "\n",
            "paragraph1: [The woman gracefully moves her fingers along the silver keys of the flute, producing a melodious tune that fills the room with enchanting music. Her eyes are closed in concentration as she loses herself in the music, swaying gently to the rhythm she creates. The notes float through the air, captivating everyone around her with the beauty of her skilled playing.]\n",
            "paragraph2: [A woman, dressed in a flowing gown, sits elegantly on a wooden chair, holding a gleaming flute to her lips. The sweet sound of the flute fills the room, wrapping everyone in a cocoon of sound that transports them to a world of serenity and peace. The woman's eyes are closed, her expression serene as she immerses herself in the music, her fingers dancing across the instrument with practiced ease.]\n",
            "data 27/20351\n",
            "\n",
            "paragraph1: [The rabbit's heart raced as it sprinted through the meadow, its small legs pounding against the ground with frantic urgency. The eagle's piercing gaze followed every move, its wings spread wide as it soared through the sky, determined to catch its prey. Suddenly, the rabbit veered to the right, ducking under a bush to evade the eagle's sharp talons.]\n",
            "paragraph2: [The hare's instincts kicked in as it darted across the open field, the shadow of the eagle looming overhead. With a burst of speed, the hare leaped over a fallen log, narrowly escaping the eagle's swooping descent. As the chase continued, the hare zigzagged through the tall grass, utilizing every twist and turn to outmaneuver its formidable predator.]\n",
            "data 28/20351\n",
            "paragraph1: [The woman stands in front of the stove, carefully placing the breaded pork chop in the sizzling hot pan. She expertly flips the chop over, ensuring it cooks evenly on both sides. The aroma of the cooking meat fills the kitchen, making her mouth water in anticipation. She takes pride in her cooking skills, knowing that the end result will be a delicious meal.]\n",
            "paragraph2: [The woman in the kitchen is focused on her task, making sure that the breaded pork chop is cooking perfectly. She checks on the chop every few minutes, adjusting the heat as needed to prevent it from burning. As the chop sizzles in the pan, she can't help but smile at the thought of enjoying a tasty meal once it's done. Her love for cooking shines through in every step of the process.]\n",
            "data 29/20351\n",
            "\n",
            "paragraph1: [The girl's kite soared high in the sky, dancing gracefully with the wind as she held onto the string tightly. Her eyes sparkled with joy as she watched the colorful kite fluttering above her. She ran across the field, feeling the thrill of the wind rushing past her.]\n",
            "paragraph2: [The girl, with her long hair flowing behind her, ran swiftly across the grassy field, her feet barely touching the ground. She giggled with excitement as she felt the freedom of running with the kite flying high above her. The sun shone brightly, casting a warm glow on the scene of the girl joyfully running and flying her kite.]\n",
            "data 30/20351\n",
            "paragraph1: [The man held on tightly to the reins as the mechanical bull bucked and spun wildly beneath him. His heart raced with adrenaline as he tried to maintain his balance on the mechanical beast. Sweat dripped down his brow as he focused on staying on for as long as possible. The crowd cheered him on, urging him to conquer the mechanical bull. Finally, after what felt like an eternity, the man was thrown off, landing on the soft padding of the bull ring.]\n",
            "\n",
            "paragraph2: [The man had a huge grin on his face as he dismounted from the mechanical bull, feeling a sense of accomplishment wash over him. He high-fived his friends who were waiting for him at the edge of the ring, celebrating his successful ride. The adrenaline rush was still coursing through his veins as he recounted the thrilling experience to anyone who would listen. As he walked away from the bull ring, he couldn't wait to ride the mechanical bull again and relive the excitement. The memory of his ride would stay with him for a long time, fueling his desire to ride the mechanical bull once more.]\n",
            "data 31/20351\n",
            "paragraph1: [The man is playing the guitar in a small, dimly lit room. His fingers move swiftly along the strings, producing beautiful melodies that fill the air. The sound of the guitar reverberates off the walls, creating a warm and inviting atmosphere. As he plays, his eyes are closed in concentration, completely lost in the music. The man's passion for the guitar is evident in every note he plays, and it is a joy to watch him perform.]\n",
            "\n",
            "paragraph2: [A man is playing a guitar on a busy street corner, surrounded by a crowd of onlookers. His music cuts through the hustle and bustle of the city, drawing people in with its soulful melody. The man's fingers dance expertly across the strings, creating a symphony of sound that captivates all who pass by. As he plays, a smile lights up his face, reflecting the joy he feels in sharing his music with others. The guitar becomes an extension of the man, expressing emotions that words cannot convey.]\n",
            "data 32/20351\n",
            "paragraph1: [The group of women moved in sync, their bodies swaying gracefully to the rhythm of the music. They laughed and sang together, creating a joyful atmosphere. The woman in the center led the dance, her movements fluid and captivating. The bond between them was evident as they danced in perfect harmony.]\n",
            "\n",
            "paragraph2: [As the rain poured down, the woman twirled and spun, her voice rising above the sound of the raindrops. The water glistened on her skin as she moved with a sense of freedom and liberation. The raindrops seemed to dance with her, creating a magical moment of pure joy and expression.]\n",
            "data 33/20351\n",
            "\n",
            "paragraph1: [The man carefully holds the bun in one hand and uses a sharp knife to slice through the soft bread. He takes his time to ensure each slice is perfect and uniform, ready to be filled with delicious ingredients. As he slices, the aroma of freshly baked bread fills the air, making his mouth water in anticipation of the tasty treat.]\n",
            "paragraph2: [Similarly, the man focuses on slicing the onion with precision, taking care to cut it into thin, even slices. The pungent smell of the onion stings his eyes slightly, but he doesn't let it deter him from his task. He knows that the perfectly sliced onion will add flavor and depth to the dish he is preparing, making it even more enjoyable to eat.]\n",
            "data 34/20351\n",
            "\n",
            "paragraph1: [The man carefully measures out the oil before slowly pouring it into the hot pan, creating a sizzling sound as it makes contact with the surface. He then swirls the pan to evenly distribute the oil and ensure that nothing sticks to the bottom. As the oil heats up, it begins to shimmer, indicating that it is ready for the next ingredients to be added. The man continues to monitor the oil, adjusting the heat as needed to prevent it from smoking or burning.]\n",
            "paragraph2: [Similarly, the man meticulously pours the oil into the skillet, making sure to coat the entire surface with a thin layer to prevent the food from sticking. He watches as the oil starts to bubble and glisten, a sign that it is reaching the optimal temperature for cooking. With a flick of his wrist, he swirls the skillet to spread the oil evenly and prepare it for the addition of other ingredients. The man's attention to detail ensures that the food will be cooked to perfection without any unwanted burnt flavors.]\n",
            "data 35/20351\n",
            "\n",
            "paragraph1: [The lion's playful nature is evident as it interacts with the people around it, showing a sense of joy and curiosity. Its movements are graceful yet powerful, captivating those who are fortunate enough to witness such a majestic creature in action. The way the lion playfully swats at the people demonstrates its playful demeanor, as it seems to be enjoying the interaction with its human companions. The onlookers are amazed at the bond that has formed between the lion and the people, showcasing a unique and heartwarming connection. As the lion continues to play, its behavior brings a sense of wonder and excitement to all who are present.]\n",
            "\n",
            "paragraph2: [The lion's playful behavior is focused on the two men who are engaging with the magnificent creature, creating a special and intimate moment between them. The men seem to be enjoying the lion's company, with smiles on their faces as they playfully interact with the powerful animal. The lion's playfulness is evident as it pounces and rolls around with the two men, showcasing a sense of trust and camaraderie between them. The bond between the lion and the two men is unique, highlighting the special connection that can form between humans and wild animals. As the lion continues to play with the two men, their\n"
          ]
        },
        {
          "output_type": "error",
          "ename": "IndexError",
          "evalue": "list index out of range",
          "traceback": [
            "\u001b[0;31m---------------------------------------------------------------------------\u001b[0m",
            "\u001b[0;31mIndexError\u001b[0m                                Traceback (most recent call last)",
            "\u001b[0;32m<ipython-input-58-9ba0fa64c008>\u001b[0m in \u001b[0;36m<cell line: 5>\u001b[0;34m()\u001b[0m\n\u001b[1;32m     20\u001b[0m \u001b[0;34m\u001b[0m\u001b[0m\n\u001b[1;32m     21\u001b[0m     \u001b[0mparagraph1\u001b[0m \u001b[0;34m=\u001b[0m \u001b[0mparagraphs\u001b[0m\u001b[0;34m[\u001b[0m\u001b[0;36m0\u001b[0m\u001b[0;34m]\u001b[0m\u001b[0;34m\u001b[0m\u001b[0;34m\u001b[0m\u001b[0m\n\u001b[0;32m---> 22\u001b[0;31m     \u001b[0mparagraph2\u001b[0m \u001b[0;34m=\u001b[0m \u001b[0mparagraphs\u001b[0m\u001b[0;34m[\u001b[0m\u001b[0;36m1\u001b[0m\u001b[0;34m]\u001b[0m\u001b[0;34m\u001b[0m\u001b[0;34m\u001b[0m\u001b[0m\n\u001b[0m\u001b[1;32m     23\u001b[0m     \u001b[0mscore\u001b[0m \u001b[0;34m=\u001b[0m \u001b[0mdata\u001b[0m\u001b[0;34m[\u001b[0m\u001b[0;34m'score'\u001b[0m\u001b[0;34m]\u001b[0m\u001b[0;34m\u001b[0m\u001b[0;34m\u001b[0m\u001b[0m\n\u001b[1;32m     24\u001b[0m     \u001b[0mextended_data\u001b[0m\u001b[0;34m.\u001b[0m\u001b[0mappend\u001b[0m\u001b[0;34m(\u001b[0m\u001b[0;34m[\u001b[0m\u001b[0mparagraph1\u001b[0m\u001b[0;34m,\u001b[0m \u001b[0mparagraph2\u001b[0m\u001b[0;34m,\u001b[0m \u001b[0mscore\u001b[0m\u001b[0;34m]\u001b[0m\u001b[0;34m)\u001b[0m\u001b[0;34m\u001b[0m\u001b[0;34m\u001b[0m\u001b[0m\n",
            "\u001b[0;31mIndexError\u001b[0m: list index out of range"
          ]
        }
      ]
    }
  ]
}