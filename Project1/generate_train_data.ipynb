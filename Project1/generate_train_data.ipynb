{
 "cells": [
  {
   "cell_type": "code",
   "execution_count": 1,
   "metadata": {},
   "outputs": [],
   "source": [
    "import pandas as pd"
   ]
  },
  {
   "cell_type": "code",
   "execution_count": 39,
   "metadata": {},
   "outputs": [
    {
     "name": "stdout",
     "output_type": "stream",
     "text": [
      "                         Name Nation               R1               R2  \\\n",
      "0            Harrison Dillard    USA      10.4 (1 h5)      10.4 (1 h1)   \n",
      "1                Barney Ewell    USA      10.5 (1 h1)      10.5 (1 h2)   \n",
      "2               Lloyd LaBeach    PAN      10.5 (1 h3)      10.5 (1 h4)   \n",
      "3       Alastair McCorquodale    GBR      10.5 (2 h1)      10.5 (2 h3)   \n",
      "4                  Mel Patton    USA      10.6 (1 h2)      10.4 (1 h3)   \n",
      "...                       ...    ...              ...              ...   \n",
      "1197             Masoud Azizi    AFG     11.45 (8 h4)                –   \n",
      "1199  Souksavanh Tonsacktheva    LAO     11.51 (8 h6)                –   \n",
      "1200          Reginaldo Ndong    GEQ     11.61 (8 h7)                –   \n",
      "1201     Mohamed Abu Abdullah    BAN     11.07 (8 h8)                –   \n",
      "1203           Samuel Francis    QAT  [10.40] (DQ h9)  [10.11] (DQ h3)   \n",
      "\n",
      "                   R3        R4  Year              Birthday  Weight  Height  \n",
      "0         10.5 (1 h1)  10.3 (1)  1948       [8, July, 1923]   178.0    69.0  \n",
      "1         10.5 (2 h1)  10.4 (2)  1948  [25, February, 1918]   180.0    71.0  \n",
      "2         10.5 (2 h2)  10.6 (3)  1948      [28, June, 1922]   185.0    73.0  \n",
      "3         10.7 (3 h1)     – (4)  1948   [5, December, 1925]   183.0    78.0  \n",
      "4         10.4 (1 h2)     – (5)  1948  [16, November, 1924]   185.0    72.0  \n",
      "...               ...       ...   ...                   ...     ...     ...  \n",
      "1197                –         –  2008   [2, February, 1985]   168.0    64.0  \n",
      "1199                –         –  2008    [12, August, 1988]   158.0    56.0  \n",
      "1200                –         –  2008   [14, October, 1986]   165.0    76.0  \n",
      "1201                –         –  2008      [1, March, 1981]   173.0    74.0  \n",
      "1203  [10.20] (DQ h1)         –  2008     [27, March, 1987]   180.0    85.0  \n",
      "\n",
      "[1095 rows x 10 columns]\n",
      "{1948: [1.1, 0.3, 0.4, 1.3, 0.9, 1.0, 0.9, 0.3, 0.6, 3.3, 0.9, 0.2, 0.0, 1.5, 1.9, 1.5, 1.3, 1.6], 1952: [], 1956: [0.0, -1.2, -2.8, 0.0, 0.1, -0.5, -0.6, 0.0, -0.9, -1.2, -0.7, 0.0, -1.4, 0.0, -1.0, -2.2, -2.3, -1.1, -2.5], 1960: [-0.3, -0.2, -0.3, -0.2, -0.2, -0.5, -0.3, -0.1, -0.2, -0.5, -0.3, -1.3, -2.3, 0.0, 0.0, 0.0], 1964: [0.6, -2.5, -2.8, -0.7, 0.3, 1.6, -1.8, 0.2, 0.2, -0.5, 1.9, 1.7, 1.0, 1.7, 5.3, -1.3, 1.0], 1968: [2.8, 0.8, 0.0, 0.6, 0.7, 3.8, 0.4, 0.0, 0.0, 1.8, 0.5, 4.2, 2.0, 1.6, 0.0], 1972: [-0.7, -2.3, 0.5, 2.3, 0.8, 1.2, -1.9, 2.1, 0.6, -0.3, -2.2, -0.3, 1.8, -2.3, 0.0, 3.4, 0.3, 0.0, 0.2, 0.3], 1976: [0.0, 0.0, 0.0, 0.0, 0.0, 0.0, 0.0, 0.0, 0.0, 1.1, 0.1, 0.1, 0.1, 1.1, 0.7, 0.0], 1980: [0.0, 0.1, 0.5, -0.2, 0.9, 0.0, -0.1, -0.1, 0.3, 1.4, 0.2, 0.3, 0.3, 0.5, 0.5, 1.2], 1984: [-0.4, 1.8, 1.8, -0.8, 1.4, 1.9, 0.8, -0.8, -1.7, -1.4, 1.4, -0.7, 0.1, 1.4, 0.8, 0.8, 0.7, -1.5, 0.2], 1988: [0.6, 0.9, 0.7, 0.8, 1.1, 1.4, 1.8, 2.0, 1.0, 1.4, 1.0, 1.4, 0.9, 1.2, 1.7, 0.9, 0.2, 1.4, 0.3, 0.6, -1.2, 1.1], 1992: [-0.1, -0.5, -0.3, -1.0, -2.0, -2.0, -1.6, -2.2, -1.6, -0.3, 0.9, -0.5, -1.7, 0.0, -1.3, -1.2, 0.5], 1996: [-0.9, 1.3, 0.1, 2.2, -0.8, 0.3, -0.3, 2.0, 0.1, -0.2, -1.6, -0.8, -0.3, 0.1, 1.1, -0.2, -1.2, -0.5, -0.6, 0.7], 2000: [-0.6, -0.6, 0.4, -0.5, -0.5, 0.2, 0.3, 1.9, -1.0, -0.7, -1.2, -1.7, 0.3, 0.8, 0.8, 0.2, 0.4, 0.2, -0.3], 2004: [-0.2, -0.4, -0.1, 0.8, 0.1, -1.1, 0.9, -0.2, -1.4, 0.7, 0.0, 0.0, 0.2, -0.1, -0.2, -1.6, 0.2, 0.6], 2008: [-0.2, 0.0, 0.0, 0.2, 0.7, 0.9, -1.4, -0.1, -1.7, -1.3, -0.1, 0.0, -0.2, 0.1, -0.1, -0.1, 0.3, 0.0], 2012: [0.9, 0.9, 1.7, 0.5, -1.4, 0.7, 1.5, 0.4, 0.0, 1.3, 2.0, 0.7, 1.0, 1.7, 1.5], 2016: [-0.2, 0.4, -0.3, -1.2, 0.8, -0.1, -0.5, 0.2, -0.8, -0.4, -1.3, 0.2, 0.2, 0.0, 0.2], 2020: []}\n"
     ]
    }
   ],
   "source": [
    "raw_data_path = './new_dataset/raw_data.csv'\n",
    "raw_data = pd.read_csv(raw_data_path)\n",
    "raw_data.dropna(subset=['Birth', 'Body', 'Year'], inplace=True)\n",
    "raw_data['Birthday'] = raw_data['Birth'].apply(lambda x: x.split()[:3])\n",
    "drop_index = []\n",
    "for idx in raw_data.index:\n",
    "    try:\n",
    "        raw_data.loc[idx, 'Weight'] = int(raw_data['Body'][idx].split()[0])\n",
    "        raw_data.loc[idx, 'Height'] = int(raw_data['Body'][idx].split()[3])\n",
    "    except:\n",
    "        drop_index.append(idx)\n",
    "raw_data.drop(index=drop_index, inplace=True)\n",
    "raw_data.drop(columns=['Gold', 'Silver', 'Bronze', 'Birth', 'Body'], inplace=True)\n",
    "print(raw_data)\n",
    "\n",
    "wind_list_path = './new_dataset/wind_list.pkl'\n",
    "wind_list = pd.read_pickle(wind_list_path)\n",
    "wind_dict = {}\n",
    "for idx in range(len(wind_list)):\n",
    "    wind_dict[1948 + idx * 4] = wind_list[idx]\n",
    "print(wind_dict)"
   ]
  },
  {
   "cell_type": "code",
   "execution_count": null,
   "metadata": {},
   "outputs": [],
   "source": [
    "train_data = pd.DataFrame(columns=['Name', 'NOC', 'Weight', 'Height', 'Age', 'Year', 'Wind', 'isHome', 'Labels'])"
   ]
  }
 ],
 "metadata": {
  "kernelspec": {
   "display_name": "ai-final",
   "language": "python",
   "name": "python3"
  },
  "language_info": {
   "codemirror_mode": {
    "name": "ipython",
    "version": 3
   },
   "file_extension": ".py",
   "mimetype": "text/x-python",
   "name": "python",
   "nbconvert_exporter": "python",
   "pygments_lexer": "ipython3",
   "version": "3.10.13"
  }
 },
 "nbformat": 4,
 "nbformat_minor": 2
}
