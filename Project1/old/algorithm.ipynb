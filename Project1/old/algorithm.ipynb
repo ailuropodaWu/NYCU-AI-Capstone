{
 "cells": [
  {
   "cell_type": "code",
   "execution_count": 1,
   "metadata": {},
   "outputs": [],
   "source": [
    "import numpy as np\n",
    "import pandas as pd\n",
    "from sklearn.linear_model import LinearRegression\n",
    "from sklearn.neural_network import MLPRegressor\n",
    "from sklearn.svm import NuSVR, LinearSVR\n",
    "from sklearn.decomposition import PCA\n",
    "from sklearn.model_selection import train_test_split"
   ]
  },
  {
   "cell_type": "code",
   "execution_count": 2,
   "metadata": {},
   "outputs": [
    {
     "name": "stdout",
     "output_type": "stream",
     "text": [
      "(310, 9)\n",
      "(310,)\n"
     ]
    }
   ],
   "source": [
    "train_data_path = './dataset/train_data.csv'\n",
    "train_data = pd.read_csv(train_data_path)\n",
    "train_data.drop(columns=['Competitor'], inplace=True)\n",
    "X = train_data.to_numpy(dtype='float64')\n",
    "X.shape\n",
    "y = X[:, -1]\n",
    "X = X[:, :-1]\n",
    "print(X.shape)\n",
    "print(y.shape)\n",
    "X_train, X_test, y_train, y_test = train_test_split(X, y, test_size=0.1, random_state=10)\n"
   ]
  },
  {
   "cell_type": "markdown",
   "metadata": {},
   "source": [
    "## Linear Regression"
   ]
  },
  {
   "cell_type": "code",
   "execution_count": 5,
   "metadata": {},
   "outputs": [
    {
     "name": "stdout",
     "output_type": "stream",
     "text": [
      "0.008874130509583153\n"
     ]
    }
   ],
   "source": [
    "LR = LinearRegression()\n",
    "LR.fit(X_train, y_train)\n",
    "prediction = LR.predict(X_test)\n",
    "error = prediction - y_test\n",
    "MSE = np.sum(np.power(error, 2)) / error.shape[0]\n",
    "print(MSE)"
   ]
  },
  {
   "cell_type": "markdown",
   "metadata": {},
   "source": [
    "## Neural Network"
   ]
  },
  {
   "cell_type": "code",
   "execution_count": 19,
   "metadata": {},
   "outputs": [
    {
     "name": "stdout",
     "output_type": "stream",
     "text": [
      "Iteration 1, loss = 36.44050839\n",
      "Iteration 2, loss = 1.70783826\n",
      "Iteration 3, loss = 0.13695195\n",
      "Iteration 4, loss = 0.04319044\n",
      "Iteration 5, loss = 0.03898245\n",
      "Iteration 6, loss = 0.03823419\n",
      "Iteration 7, loss = 0.03778839\n",
      "Iteration 8, loss = 0.03801607\n",
      "Iteration 9, loss = 0.03875642\n",
      "Iteration 10, loss = 0.03714947\n",
      "Iteration 11, loss = 0.03695142\n",
      "Iteration 12, loss = 0.03674745\n",
      "Iteration 13, loss = 0.03678061\n",
      "Iteration 14, loss = 0.03560422\n",
      "Iteration 15, loss = 0.03436134\n",
      "Iteration 16, loss = 0.03544453\n",
      "Iteration 17, loss = 0.03358253\n",
      "Iteration 18, loss = 0.03290111\n",
      "Iteration 19, loss = 0.03298273\n",
      "Iteration 20, loss = 0.03403628\n",
      "Iteration 21, loss = 0.03556361\n",
      "Iteration 22, loss = 0.03243942\n",
      "Iteration 23, loss = 0.03172640\n",
      "Iteration 24, loss = 0.02957160\n",
      "Iteration 25, loss = 0.02962054\n",
      "Iteration 26, loss = 0.02884636\n",
      "Iteration 27, loss = 0.02770576\n",
      "Iteration 28, loss = 0.02784194\n",
      "Iteration 29, loss = 0.02685785\n",
      "Iteration 30, loss = 0.02739163\n",
      "Iteration 31, loss = 0.02684621\n",
      "Iteration 32, loss = 0.02699334\n",
      "Iteration 33, loss = 0.02683981\n",
      "Iteration 34, loss = 0.02564777\n",
      "Iteration 35, loss = 0.02522133\n",
      "Iteration 36, loss = 0.02329877\n",
      "Iteration 37, loss = 0.02223324\n",
      "Iteration 38, loss = 0.02231953\n",
      "Iteration 39, loss = 0.02069924\n",
      "Iteration 40, loss = 0.02217005\n",
      "Iteration 41, loss = 0.02112079\n",
      "Iteration 42, loss = 0.02146653\n",
      "Iteration 43, loss = 0.02096365\n",
      "Iteration 44, loss = 0.01914661\n",
      "Iteration 45, loss = 0.01861595\n",
      "Iteration 46, loss = 0.01847402\n",
      "Iteration 47, loss = 0.01824932\n",
      "Iteration 48, loss = 0.01730978\n",
      "Iteration 49, loss = 0.01747490\n",
      "Iteration 50, loss = 0.01735067\n",
      "Iteration 51, loss = 0.01640360\n",
      "Iteration 52, loss = 0.01724381\n",
      "Iteration 53, loss = 0.01658519\n",
      "Iteration 54, loss = 0.01585820\n",
      "Iteration 55, loss = 0.01678949\n",
      "Iteration 56, loss = 0.01565775\n",
      "Iteration 57, loss = 0.01744932\n",
      "Iteration 58, loss = 0.01601984\n",
      "Iteration 59, loss = 0.01564491\n",
      "Iteration 60, loss = 0.01548915\n",
      "Iteration 61, loss = 0.01429649\n",
      "Iteration 62, loss = 0.01428237\n",
      "Iteration 63, loss = 0.01528124\n",
      "Iteration 64, loss = 0.01495561\n",
      "Iteration 65, loss = 0.01370695\n",
      "Iteration 66, loss = 0.01307307\n",
      "Iteration 67, loss = 0.01527033\n",
      "Iteration 68, loss = 0.01226708\n",
      "Iteration 69, loss = 0.01257713\n",
      "Iteration 70, loss = 0.01167330\n",
      "Iteration 71, loss = 0.01156934\n",
      "Iteration 72, loss = 0.01369120\n",
      "Iteration 73, loss = 0.01142675\n",
      "Iteration 74, loss = 0.01142414\n",
      "Iteration 75, loss = 0.01291187\n",
      "Iteration 76, loss = 0.01213832\n",
      "Iteration 77, loss = 0.01419913\n",
      "Iteration 78, loss = 0.01193651\n",
      "Iteration 79, loss = 0.01166820\n",
      "Iteration 80, loss = 0.01152930\n",
      "Iteration 81, loss = 0.01164479\n",
      "Iteration 82, loss = 0.01220468\n",
      "Iteration 83, loss = 0.01158507\n",
      "Iteration 84, loss = 0.01165680\n",
      "Training loss did not improve more than tol=0.000100 for 10 consecutive epochs. Stopping.\n",
      "0.018484054770397277\n"
     ]
    }
   ],
   "source": [
    "MLP = MLPRegressor(hidden_layer_sizes=2000, batch_size=10, verbose=True, learning_rate='adaptive', learning_rate_init=1e-5, max_iter=5000)\n",
    "MLP.fit(X_train, y_train)\n",
    "prediction = MLP.predict(X_test)\n",
    "error = prediction - y_test\n",
    "MSE = np.sum(np.power(error, 2)) / error.shape[0]\n",
    "print(MSE)"
   ]
  },
  {
   "cell_type": "markdown",
   "metadata": {},
   "source": [
    "## SVM"
   ]
  },
  {
   "cell_type": "code",
   "execution_count": 23,
   "metadata": {},
   "outputs": [
    {
     "name": "stdout",
     "output_type": "stream",
     "text": [
      "[LibSVM]0.008387073230143385\n"
     ]
    }
   ],
   "source": [
    "NSVR = NuSVR(verbose=True, kernel='poly', degree=9, C=10)\n",
    "NSVR.fit(X_train, y_train)\n",
    "prediction = NSVR.predict(X_test)\n",
    "error = prediction - y_test\n",
    "MSE = np.sum(np.power(error, 2)) / error.shape[0]\n",
    "print(MSE)\n"
   ]
  },
  {
   "cell_type": "code",
   "execution_count": 33,
   "metadata": {},
   "outputs": [
    {
     "name": "stdout",
     "output_type": "stream",
     "text": [
      "0.027529811329653826\n"
     ]
    },
    {
     "name": "stderr",
     "output_type": "stream",
     "text": [
      "d:\\anaconda3\\envs\\ai-final\\lib\\site-packages\\sklearn\\svm\\_classes.py:31: FutureWarning: The default value of `dual` will change from `True` to `'auto'` in 1.5. Set the value of `dual` explicitly to suppress the warning.\n",
      "  warnings.warn(\n",
      "d:\\anaconda3\\envs\\ai-final\\lib\\site-packages\\sklearn\\svm\\_base.py:1237: ConvergenceWarning: Liblinear failed to converge, increase the number of iterations.\n",
      "  warnings.warn(\n"
     ]
    }
   ],
   "source": [
    "LSVR = LinearSVR(verbose=False, C=4)\n",
    "LSVR.fit(X_train, y_train)\n",
    "prediction = LSVR.predict(X_test)\n",
    "error = prediction - y_test\n",
    "MSE = np.sum(np.power(error, 2)) / error.shape[0]\n",
    "print(MSE)"
   ]
  },
  {
   "cell_type": "markdown",
   "metadata": {},
   "source": [
    "## Principal Component Analysis (PCA)"
   ]
  },
  {
   "cell_type": "code",
   "execution_count": 39,
   "metadata": {},
   "outputs": [
    {
     "data": {
      "text/plain": [
       "-17.718282465085082"
      ]
     },
     "execution_count": 39,
     "metadata": {},
     "output_type": "execute_result"
    }
   ],
   "source": [
    "PCAmodel = PCA()\n",
    "PCAmodel.fit(X)\n",
    "PCAmodel.score(X)"
   ]
  }
 ],
 "metadata": {
  "kernelspec": {
   "display_name": "ai-final",
   "language": "python",
   "name": "python3"
  },
  "language_info": {
   "codemirror_mode": {
    "name": "ipython",
    "version": 3
   },
   "file_extension": ".py",
   "mimetype": "text/x-python",
   "name": "python",
   "nbconvert_exporter": "python",
   "pygments_lexer": "ipython3",
   "version": "3.10.13"
  }
 },
 "nbformat": 4,
 "nbformat_minor": 2
}
